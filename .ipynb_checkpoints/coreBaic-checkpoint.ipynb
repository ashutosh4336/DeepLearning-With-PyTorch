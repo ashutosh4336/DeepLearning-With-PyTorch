{
 "cells": [
  {
   "cell_type": "code",
   "execution_count": 1,
   "metadata": {},
   "outputs": [
    {
     "data": {
      "text/plain": [
       "{'name': 'Ashutosh Panda', 'age': 21, 'profession': 'Software Developer'}"
      ]
     },
     "execution_count": 1,
     "metadata": {},
     "output_type": "execute_result"
    }
   ],
   "source": [
    "import sys\n",
    "myBio = {'name': 'Ashutosh Panda', 'age': 21, 'profession': 'Software Developer'}\n",
    "\n",
    "# Printing Data\n",
    "\n",
    "# print(myBio)\n",
    "\n",
    "# 'age' in myBio\n",
    "\n",
    "# myBio['age']\n",
    "\n",
    "# myBio.keys()\n",
    "\n",
    "# myBio.values()\n",
    "\n",
    "# myBio.items()\n",
    "\n",
    "# myBio.get('age')\n",
    "\n",
    "# myBio['location'] = 'Bharat'\n",
    "# print(myBio)\n",
    "\n",
    "# del myBio['age']\n",
    "\n",
    "# myBio.clear()\n",
    "# print(myBio)\n",
    "\n",
    "# dir(myBio)\n",
    "# help(myBio.__class__)\n",
    "\n",
    "# sys.getsizeof(myBio)\n",
    "myBio"
   ]
  },
  {
   "cell_type": "markdown",
   "metadata": {},
   "source": [
    "## Fork Demo"
   ]
  },
  {
   "cell_type": "code",
   "execution_count": null,
   "metadata": {},
   "outputs": [],
   "source": [
    "# #!usr/bin/env python\n",
    "# import os\n",
    "\n",
    "# def child_process() :\n",
    "#     print('I\\'m the Child Process an my PID is : %d' %os.getpid())\n",
    "#     print('The child is exiting')\n",
    "    \n",
    "# def parent_process() :\n",
    "#     print('Im the Child Process an my PID is : %d' %os.getpid())\n",
    "#     childID = os.fork()\n",
    "    \n",
    "#     if childID == 0:\n",
    "#         # we're inside the child\n",
    "#         child_process()\n",
    "#     else:\n",
    "#         # we're inside the parent process\n",
    "#         print('we\\'re inside the Parent Process')\n",
    "#         print('Our child has the PID : %d'%childID)\n",
    "        \n",
    "#     while True:\n",
    "#         pass\n",
    "    \n",
    "# parent_process()"
   ]
  }
 ],
 "metadata": {
  "kernelspec": {
   "display_name": "Python 3",
   "language": "python",
   "name": "python3"
  },
  "language_info": {
   "codemirror_mode": {
    "name": "ipython",
    "version": 3
   },
   "file_extension": ".py",
   "mimetype": "text/x-python",
   "name": "python",
   "nbconvert_exporter": "python",
   "pygments_lexer": "ipython3",
   "version": "3.7.6"
  }
 },
 "nbformat": 4,
 "nbformat_minor": 4
}
